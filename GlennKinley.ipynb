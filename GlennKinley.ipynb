{
 "cells": [
  {
   "cell_type": "markdown",
   "metadata": {},
   "source": [
    "# MC316 Final Exam – Part B: PYTHON"
   ]
  },
  {
   "cell_type": "markdown",
   "metadata": {},
   "source": [
    "* You will have 1 hour and 40 minutes to finish the test.\n",
    "* This part includes 10 questions. Each question is worth 15 points.\n",
    "* You get extra 30 points for full answers.\n",
    "* Please read the instructions carefully. "
   ]
  },
  {
   "cell_type": "markdown",
   "metadata": {},
   "source": [
    "## I. SET UP\n"
   ]
  },
  {
   "cell_type": "markdown",
   "metadata": {},
   "source": [
    "### Import pandas library for use in scripting. "
   ]
  },
  {
   "cell_type": "code",
   "execution_count": 3,
   "metadata": {},
   "outputs": [],
   "source": [
    "import pandas as pd"
   ]
  },
  {
   "cell_type": "markdown",
   "metadata": {},
   "source": [
    "### Import the datasets and name them.\n",
    "For this test, you will analyze revenue and expenditure data released by Kansas Department of Administration for the fiscal year 2018. While the original data can be directly downloaded [here](http://kanview.ks.gov/DataDownload.aspx), for your convenience, the instructor had them uploaded to a server at the following urls. \n",
    "\n",
    "#### For Kansas State University:\n",
    "1. Expenditure data: https://datajournalism.tech/wp-content/uploads/2019/05/ExpData_367_2018.csv\n",
    "2. Revenue data: https://datajournalism.tech/wp-content/uploads/2019/05/RevData_367_2018.csv\n",
    "\n",
    "#### For University of Kansas:\n",
    "3. Expenditure data: https://datajournalism.tech/wp-content/uploads/2019/05/ExpData_682_2018.csv\n",
    "4. Revenue data: https://datajournalism.tech/wp-content/uploads/2019/05/RevData_682_2018.csv\n",
    "\n",
    "You will need to import all 4 datasets and name them in an easy way to call out later.\n",
    "\n",
    "*Please refer to the [Glossary](http://kanview.ks.gov/Glossary.aspx#f) for data description."
   ]
  },
  {
   "cell_type": "code",
   "execution_count": 19,
   "metadata": {},
   "outputs": [],
   "source": [
    "KSUEXP = pd.read_csv(\"https://datajournalism.tech/wp-content/uploads/2019/05/ExpData_367_2018.csv\")"
   ]
  },
  {
   "cell_type": "code",
   "execution_count": 20,
   "metadata": {},
   "outputs": [],
   "source": [
    "KSUREV = pd.read_csv(\"https://datajournalism.tech/wp-content/uploads/2019/05/RevData_367_2018.csv\")"
   ]
  },
  {
   "cell_type": "code",
   "execution_count": 21,
   "metadata": {},
   "outputs": [],
   "source": [
    "KUEXP = pd.read_csv(\"https://datajournalism.tech/wp-content/uploads/2019/05/ExpData_682_2018.csv\")"
   ]
  },
  {
   "cell_type": "code",
   "execution_count": 22,
   "metadata": {},
   "outputs": [],
   "source": [
    "KUREV = pd.read_csv(\"https://datajournalism.tech/wp-content/uploads/2019/05/RevData_682_2018.csv\")"
   ]
  },
  {
   "cell_type": "markdown",
   "metadata": {},
   "source": [
    "## II. REQUIRED QUESTIONS\n",
    "* Make sure you type the answers in the cells right below the codes.\n",
    "* If you need to add extra cells, click the + button in the toolbar up the top. "
   ]
  },
  {
   "cell_type": "markdown",
   "metadata": {},
   "source": [
    "### Q1: What is the total revenue recorded for Kansas State University in the fiscal year of 2018? How does it compare to the total revenue recorded for University of Kansas in the same year?"
   ]
  },
  {
   "cell_type": "code",
   "execution_count": 23,
   "metadata": {},
   "outputs": [
    {
     "data": {
      "text/plain": [
       "854324643.84"
      ]
     },
     "execution_count": 23,
     "metadata": {},
     "output_type": "execute_result"
    }
   ],
   "source": [
    "KSUREV.Total.sum()"
   ]
  },
  {
   "cell_type": "code",
   "execution_count": 24,
   "metadata": {},
   "outputs": [
    {
     "data": {
      "text/plain": [
       "808767902.55"
      ]
     },
     "execution_count": 24,
     "metadata": {},
     "output_type": "execute_result"
    }
   ],
   "source": [
    "KUREV.Total.sum()"
   ]
  },
  {
   "cell_type": "code",
   "execution_count": 25,
   "metadata": {},
   "outputs": [
    {
     "data": {
      "text/plain": [
       "45556741.29000008"
      ]
     },
     "execution_count": 25,
     "metadata": {},
     "output_type": "execute_result"
    }
   ],
   "source": [
    "854324643.84-808767902.55"
   ]
  },
  {
   "cell_type": "markdown",
   "metadata": {},
   "source": [
    "The sum of the total revenue for Kansas State University in 2018 was 854,432,642.84. The sum of total revenue for Uinversity of Kansas for this year was 808,767,902.55. The difference in revenue shows K-State had 45,556,741.29 more revenue in 2018."
   ]
  },
  {
   "cell_type": "markdown",
   "metadata": {},
   "source": [
    "### Q2: What is the total expense recorded for Kansas State University in the fiscal year of 2018? How does it compare to the total expense recorded for University of Kansas in the same year?"
   ]
  },
  {
   "cell_type": "code",
   "execution_count": 26,
   "metadata": {},
   "outputs": [
    {
     "data": {
      "text/plain": [
       "1018584373.02"
      ]
     },
     "execution_count": 26,
     "metadata": {},
     "output_type": "execute_result"
    }
   ],
   "source": [
    "KSUEXP.Total.sum()"
   ]
  },
  {
   "cell_type": "code",
   "execution_count": 27,
   "metadata": {},
   "outputs": [
    {
     "data": {
      "text/plain": [
       "990238875.6099999"
      ]
     },
     "execution_count": 27,
     "metadata": {},
     "output_type": "execute_result"
    }
   ],
   "source": [
    "KUEXP.Total.sum()"
   ]
  },
  {
   "cell_type": "code",
   "execution_count": 28,
   "metadata": {},
   "outputs": [
    {
     "data": {
      "text/plain": [
       "28345497.410000086"
      ]
     },
     "execution_count": 28,
     "metadata": {},
     "output_type": "execute_result"
    }
   ],
   "source": [
    "1018584373.02-990238875.6099999"
   ]
  },
  {
   "cell_type": "markdown",
   "metadata": {},
   "source": [
    "<b>Answer:</b> The total expenses in the fiscal year 2018 for Kansas State University was 1,018,584,373.02. The total expenses for University of Kansas in this year was 990,238.875.60. This shows that the difference between the two school's expenses is 28,345,497.41, and Kansas State had more expenses. "
   ]
  },
  {
   "cell_type": "markdown",
   "metadata": {},
   "source": [
    "### Q3: Where did the two universities' primary revenues come from? \n",
    "*Refer to the description [here](http://kanview.ks.gov/Revenues/AcctCodeRevenues.aspx) to write your answer."
   ]
  },
  {
   "cell_type": "code",
   "execution_count": 41,
   "metadata": {},
   "outputs": [
    {
     "data": {
      "text/plain": [
       "AGENCY EARNINGS                   637\n",
       "REV FROM USE OF MONEY & PROP      354\n",
       "REVENUE TRANSFERS                 341\n",
       "NON REVENUE RECEIPTS              259\n",
       "OTHER REVENUE                     160\n",
       "GIFT DONATION FEDERAL GRANTS      152\n",
       "TAXES                               7\n",
       "Name: Primary_Account_Code_Descr, dtype: int64"
      ]
     },
     "execution_count": 41,
     "metadata": {},
     "output_type": "execute_result"
    }
   ],
   "source": [
    "KSUREV.Primary_Account_Code_Descr.value_counts()"
   ]
  },
  {
   "cell_type": "code",
   "execution_count": 42,
   "metadata": {},
   "outputs": [
    {
     "data": {
      "text/plain": [
       "AGENCY EARNINGS                   376\n",
       "REV FROM USE OF MONEY & PROP      251\n",
       "NON REVENUE RECEIPTS              157\n",
       "REVENUE TRANSFERS                 153\n",
       "OTHER REVENUE                      57\n",
       "TAXES                              45\n",
       "GIFT DONATION FEDERAL GRANTS       38\n",
       "Name: Primary_Account_Code_Descr, dtype: int64"
      ]
     },
     "execution_count": 42,
     "metadata": {},
     "output_type": "execute_result"
    }
   ],
   "source": [
    "KUREV.Primary_Account_Code_Descr.value_counts()"
   ]
  },
  {
   "cell_type": "markdown",
   "metadata": {},
   "source": [
    "<b>Answer:</b> The primary source of revenue for both universities was Agency Earnings. "
   ]
  },
  {
   "cell_type": "markdown",
   "metadata": {},
   "source": [
    "### Q4: What was the biggest source of revenues for Kansas State University? Compare to the one of University of Kansas."
   ]
  },
  {
   "cell_type": "markdown",
   "metadata": {},
   "source": [
    "Remove hashtag and run the following code to suppress scientific notation:"
   ]
  },
  {
   "cell_type": "code",
   "execution_count": 49,
   "metadata": {},
   "outputs": [],
   "source": [
    "pd.set_option('display.float_format', lambda x: '%.3f' % x)"
   ]
  },
  {
   "cell_type": "code",
   "execution_count": 59,
   "metadata": {},
   "outputs": [
    {
     "data": {
      "text/plain": [
       "Primary_Account_Code_Descr\n",
       "AGENCY EARNINGS                  412565112.820\n",
       "GIFT DONATION FEDERAL GRANTS     278778848.030\n",
       "NON REVENUE RECEIPTS              71947564.050\n",
       "OTHER REVENUE                      8432030.160\n",
       "REV FROM USE OF MONEY & PROP      34139318.040\n",
       "REVENUE TRANSFERS                 48458616.490\n",
       "TAXES                                 3154.250\n",
       "Name: Total, dtype: float64"
      ]
     },
     "execution_count": 59,
     "metadata": {},
     "output_type": "execute_result"
    }
   ],
   "source": [
    "KSUREV.groupby(\"Primary_Account_Code_Descr\").Total.sum()"
   ]
  },
  {
   "cell_type": "code",
   "execution_count": 60,
   "metadata": {},
   "outputs": [
    {
     "data": {
      "text/plain": [
       "Primary_Account_Code_Descr\n",
       "AGENCY EARNINGS                  408409337.320\n",
       "GIFT DONATION FEDERAL GRANTS     193836668.320\n",
       "NON REVENUE RECEIPTS              69753247.670\n",
       "OTHER REVENUE                     68241930.500\n",
       "REV FROM USE OF MONEY & PROP      40950779.540\n",
       "REVENUE TRANSFERS                 26013855.400\n",
       "TAXES                              1562083.800\n",
       "Name: Total, dtype: float64"
      ]
     },
     "execution_count": 60,
     "metadata": {},
     "output_type": "execute_result"
    }
   ],
   "source": [
    "KUREV.groupby(\"Primary_Account_Code_Descr\").Total.sum()"
   ]
  },
  {
   "cell_type": "code",
   "execution_count": 61,
   "metadata": {},
   "outputs": [
    {
     "data": {
      "text/plain": [
       "4155775.5"
      ]
     },
     "execution_count": 61,
     "metadata": {},
     "output_type": "execute_result"
    }
   ],
   "source": [
    "412565112.820-408409337.320"
   ]
  },
  {
   "cell_type": "markdown",
   "metadata": {},
   "source": [
    "<b>Answer:</b> The biggest source of revenue for Kansas State University was Agency Earning with 412,565,112.82. The largest for KU was also Agency earnings at 408,409,337.32. K-State had a higher number by 4,155,775.50. "
   ]
  },
  {
   "cell_type": "markdown",
   "metadata": {},
   "source": [
    "### Q5: What accounts contributed to Kansas State University's biggest source of revenues?\n",
    "If you run into a situation where a filter function returns 0 results, you may want to check if there are leading and trailing spaces in the column. To clean the leading and trailing spaces, you will need to remove the hashtag, revise the names, and run the following code:"
   ]
  },
  {
   "cell_type": "code",
   "execution_count": 63,
   "metadata": {},
   "outputs": [],
   "source": [
    "#yourdataframe[\"yourcolumnname\"] = yourdataframe[\"yourcolumnname\"].str.strip()"
   ]
  },
  {
   "cell_type": "markdown",
   "metadata": {},
   "source": [
    "After cleaning the spaces, you can start filtering your datasets to find the answer for Q5."
   ]
  },
  {
   "cell_type": "code",
   "execution_count": null,
   "metadata": {},
   "outputs": [],
   "source": []
  },
  {
   "cell_type": "markdown",
   "metadata": {},
   "source": [
    "<b>Answer:</b> Agency Earnings, Gift donation, Non Revenue Receipts, Other Revenue. "
   ]
  },
  {
   "cell_type": "markdown",
   "metadata": {},
   "source": [
    "### Q6: Where did the money go? (Answer for both universities)\n",
    "*Refer to the description [here] (http://kanview.ks.gov/Expenditures/AcctCodeExpenditures.aspx) to write your answer."
   ]
  },
  {
   "cell_type": "code",
   "execution_count": 69,
   "metadata": {},
   "outputs": [
    {
     "data": {
      "text/plain": [
       "Detail_Account_Code_Descr\n",
       "ACCOUNTANTS AND AUDITORS              9052.000\n",
       "ADVERTISING                        2129373.840\n",
       "ADVERTISING AND MARKETING            11953.000\n",
       "AG EQUIP AND MACHINERY             1019999.810\n",
       "AG EQUIP AND MACHINERY NON CAP      146858.820\n",
       "AG SUPPLIES AND MATERIALS          1731336.670\n",
       "AIR RAIL & BUS FARE INTERNATL      1085212.280\n",
       "AIR RAIL & BUS FARE OUT STATE      1717919.260\n",
       "AIR RAIL AND BUS FARE IN STATE       28618.820\n",
       "AIRCRAFT FUEL                       298995.650\n",
       "ANIMAL DRUGS                        655544.990\n",
       "ARCHITECTS AND ENGINEERS           3013111.230\n",
       "ASSESSMENTS FOR IMPROVEMENTS          1778.080\n",
       "ATTORNEYS AND LAWYERS               356096.490\n",
       "BANK FEES                              292.700\n",
       "BLDGS AND GROUNDS MATERIALS        1605191.090\n",
       "BOND INTEREST                     15417585.700\n",
       "BOND PRINCIPAL                    15960000.000\n",
       "BOOKS & LIBRARY MAT NON CAP         223804.920\n",
       "BUILDING SPACE RENTAL              1261138.430\n",
       "BUILDINGS                         39972418.640\n",
       "BUILDINGS NON CAP                   174976.830\n",
       "CELLULAR PHONES                     271120.760\n",
       "CHEMICALS                           346252.550\n",
       "CLASSIFIED REGULAR                       0.000\n",
       "CLOTHING                            291010.990\n",
       "COMMERCIAL LOCAL COMM SERVICE       461495.190\n",
       "COMMERCIAL LONG DISTANCE SVC         98271.940\n",
       "COMMODITIES FOR RESALE             3921363.400\n",
       "COMPUTER EQUIPMENT RENTAL             2730.450\n",
       "                                      ...     \n",
       "STATE CAR EXPENSE-IN STATE         1013914.380\n",
       "STATE CAR EXPENSE-INTERNATL            414.400\n",
       "STATE CAR EXPENSE-OUT OF ST         191528.010\n",
       "STATIONERY AND OFFICE SUPPLIES      774070.330\n",
       "STIPENDS INSTRUCTIONAL GRANTS      3908464.180\n",
       "STUDENT EMPLOYEES HOURLY          16409907.550\n",
       "STUDENT RESEARCH ASSISTANTS       16146554.180\n",
       "STUDENT SCHOLAR FELLOW GRANT      74721592.990\n",
       "SURETY BOND AND INS PREMIUMS       1927661.890\n",
       "TAXES REMITTED                      527477.820\n",
       "TELECOM SWITCHING EQUIPMENT          75552.310\n",
       "TELECOM SWITCHING NON CAP           165914.570\n",
       "TELECOM TERMINATION NON CAP         306999.390\n",
       "TELECOM TRANSMISSION NON CAP          7195.570\n",
       "TRAVEL ALLOW SPONS INST GRANT      1187458.470\n",
       "TRUCKS                              450318.190\n",
       "TRUCKS NON CAP                       35563.660\n",
       "UNCLASS HOL NOT INCL IN BASE        228189.410\n",
       "UNCLASS HOLIDAY INCL IN BASE      11109574.960\n",
       "UNCLASS LONGEVITY PAY               667950.000\n",
       "UNCLASSIFED OVERTIME PAY           1342678.290\n",
       "UNCLASSIFED SHIFT DIFFERENTIAL      215677.450\n",
       "UNCLASSIFIED REGULAR             305142755.620\n",
       "UNCLASSIFIED TEMPORARY            18051482.160\n",
       "UNEMPLOYMENT COMPENSATION           260394.500\n",
       "UNIV HOUSING FACIL SALES TAX        112699.790\n",
       "VETERINARIANS                        61722.010\n",
       "VRIP GHI COVERAGE                    81656.340\n",
       "WATER                              1321355.360\n",
       "WORKERS COMPENSATION               1468198.830\n",
       "Name: Total, Length: 217, dtype: float64"
      ]
     },
     "execution_count": 69,
     "metadata": {},
     "output_type": "execute_result"
    }
   ],
   "source": [
    "KSUEXP.groupby(\"Detail_Account_Code_Descr\").Total.sum()"
   ]
  },
  {
   "cell_type": "code",
   "execution_count": 66,
   "metadata": {},
   "outputs": [
    {
     "data": {
      "text/plain": [
       "Detail_Account_Code_Descr\n",
       "ACCOUNTANTS AND AUDITORS            104594.090\n",
       "ADVERTISING                        1849687.370\n",
       "ADVERTISING AND MARKETING                0.000\n",
       "AG EQUIP AND MACHINERY               23702.400\n",
       "AG EQUIP AND MACHINERY NON CAP        9614.050\n",
       "AG SUPPLIES AND MATERIALS            91514.860\n",
       "AIR RAIL & BUS FARE INTERNATL       667468.030\n",
       "AIR RAIL & BUS FARE OUT STATE      1034460.070\n",
       "AIR RAIL AND BUS FARE IN STATE       33000.370\n",
       "AIRCRAFT FUEL                       246502.750\n",
       "ANIMAL DRUGS                            83.470\n",
       "ANTIFREEZE                            1289.670\n",
       "ARCHITECTS AND ENGINEERS           4004007.880\n",
       "ASSESSMENTS FOR IMPROVEMENTS             0.000\n",
       "ASSIGNED COUNSEL-CNTRCT LAWYER        1062.500\n",
       "ASSIGNED COUNSEL-NONCNTRCT LAW        1764.000\n",
       "ATTORNEYS AND LAWYERS                  117.330\n",
       "BIO-DIESEL                            5081.830\n",
       "BLDGS AND GROUNDS MATERIALS        4865591.890\n",
       "BOND INTEREST                     13514706.920\n",
       "BOND PRINCIPAL                    11795000.000\n",
       "BOOKS & LIBRARY MAT NON CAP          73514.330\n",
       "BOOKS AND LIBRARY MATERIALS           6338.390\n",
       "BUILDING IMPROVEMENTS              6738896.190\n",
       "BUILDING IMPROVEMENTS NON CAP      1080514.120\n",
       "BUILDING SPACE RENTAL               720154.040\n",
       "BUILDINGS                         41133478.280\n",
       "BUILDINGS NON CAP                   320884.900\n",
       "CELLULAR PHONES                     113632.410\n",
       "CHEMICALS                           227774.740\n",
       "                                      ...     \n",
       "SOFTWARE                             98786.600\n",
       "SOFTWARE NON CAPITAL               3527956.180\n",
       "SOLID WASTE CHARGES                 471795.270\n",
       "ST BLDGS OPERATING CHARGE              769.000\n",
       "STATE CAR EXPENSE-IN STATE           71324.770\n",
       "STATE CAR EXPENSE-INTERNATL             52.500\n",
       "STATE CAR EXPENSE-OUT OF ST           1577.570\n",
       "STATIONERY AND OFFICE SUPPLIES     2049551.830\n",
       "STEAM                                  593.230\n",
       "STUDENT EMPLOYEES HOURLY          10739204.610\n",
       "STUDENT RESEARCH ASSISTANTS       12100134.710\n",
       "STUDENT SCHOLAR FELLOW GRANT      71155246.600\n",
       "SURETY BOND AND INS PREMIUMS       1892927.390\n",
       "TAXES REMITTED                      209389.310\n",
       "TELECOM SWITCHING NON CAP             1894.540\n",
       "TELECOM TERMINATION NON CAP          12263.240\n",
       "TELECOM TRANSMISSION EQUIPMENT       36801.000\n",
       "TELECOM TRANSMISSION NON CAP          8000.280\n",
       "TIRES                                48090.190\n",
       "TRUCKS                              325693.130\n",
       "TRUCKS NON CAP                           0.000\n",
       "UNCLASS HOL NOT INCL IN BASE        147150.160\n",
       "UNCLASS HOLIDAY INCL IN BASE       6289556.090\n",
       "UNCLASSIFED OVERTIME PAY             57875.120\n",
       "UNCLASSIFED SHIFT DIFFERENTIAL        8441.410\n",
       "UNCLASSIFIED REGULAR             305121246.380\n",
       "UNCLASSIFIED TEMPORARY             3878461.940\n",
       "UNEMPLOYMENT COMPENSATION           260805.300\n",
       "WATER                              1149107.480\n",
       "WORKERS COMPENSATION               1431822.600\n",
       "Name: Total, Length: 242, dtype: float64"
      ]
     },
     "execution_count": 66,
     "metadata": {},
     "output_type": "execute_result"
    }
   ],
   "source": [
    "KUEXP.groupby(\"Detail_Account_Code_Descr\").Total.sum()"
   ]
  },
  {
   "cell_type": "markdown",
   "metadata": {},
   "source": [
    "<b>Answer:</b> The money was spent on a high variety of things. There are lots of different categories for the expenses. Some things the momey was spent on was Trucks, Water, Workers Compensation, Accounting, and Advertising. The main two things money was spent on were Unclassified Regular and Other loans."
   ]
  },
  {
   "cell_type": "markdown",
   "metadata": {},
   "source": [
    "### Q7: What costs two universities the most? "
   ]
  },
  {
   "cell_type": "markdown",
   "metadata": {},
   "source": [
    "<b>Answer:</b> The unclassified regular category costs the two universities the most. "
   ]
  },
  {
   "cell_type": "markdown",
   "metadata": {},
   "source": [
    "### Q8: Calculate the percentage of this cost over each university's total expense."
   ]
  },
  {
   "cell_type": "code",
   "execution_count": 71,
   "metadata": {},
   "outputs": [
    {
     "data": {
      "text/plain": [
       "0.3081289312056562"
      ]
     },
     "execution_count": 71,
     "metadata": {},
     "output_type": "execute_result"
    }
   ],
   "source": [
    "305121246.380/990238875.6099999"
   ]
  },
  {
   "cell_type": "code",
   "execution_count": 72,
   "metadata": {},
   "outputs": [
    {
     "data": {
      "text/plain": [
       "0.299575335831319"
      ]
     },
     "execution_count": 72,
     "metadata": {},
     "output_type": "execute_result"
    }
   ],
   "source": [
    "305142755.620/1018584373.02"
   ]
  },
  {
   "cell_type": "markdown",
   "metadata": {},
   "source": [
    "<b>Answer:</b> This cost makes up about 30% of the total expenses for KU. For Kansas State it makes up just under 30% (29.95%) of the total expenses. "
   ]
  },
  {
   "cell_type": "markdown",
   "metadata": {},
   "source": [
    "### Q9: Breakdown the cost you found in Q7 for both universities.\n",
    "Again, if you run into a situation where a filter function returns 0 results, you may want to check if there are leading and trailing spaces in the column. To clean the leading and trailing spaces, you will need to remove the hashtag, revise the names, and run the following code:"
   ]
  },
  {
   "cell_type": "code",
   "execution_count": 3,
   "metadata": {},
   "outputs": [],
   "source": [
    "#yourdataframe[\"yourcolumnname\"] = yourdataframe[\"yourcolumnname\"].str.strip()"
   ]
  },
  {
   "cell_type": "code",
   "execution_count": null,
   "metadata": {},
   "outputs": [],
   "source": []
  },
  {
   "cell_type": "markdown",
   "metadata": {},
   "source": [
    "<b>Answer:</b>"
   ]
  },
  {
   "cell_type": "markdown",
   "metadata": {},
   "source": [
    "### Q10: Compare the breakdown costs from Q9 side by side.\n",
    "When you merge the two subsets, make sure to add the attribute <b>how =\"outer\"</b> so that you can keep every item from both sets.\n",
    "*For example: merge = pd.merge(df1, df2, how=\"outer\", on=\"columnname\")"
   ]
  },
  {
   "cell_type": "code",
   "execution_count": null,
   "metadata": {},
   "outputs": [],
   "source": []
  },
  {
   "cell_type": "markdown",
   "metadata": {},
   "source": [
    "<b>Answer:</b>"
   ]
  },
  {
   "cell_type": "markdown",
   "metadata": {},
   "source": [
    "## III. BONUS QUESTIONS\n",
    "* Each question's worth 15 points.\n"
   ]
  },
  {
   "cell_type": "markdown",
   "metadata": {},
   "source": [
    "### B1: Which university made a profit in the fiscal year of 2018?"
   ]
  },
  {
   "cell_type": "code",
   "execution_count": 43,
   "metadata": {},
   "outputs": [
    {
     "data": {
      "text/plain": [
       "854324643.84"
      ]
     },
     "execution_count": 43,
     "metadata": {},
     "output_type": "execute_result"
    }
   ],
   "source": [
    "KSUREV.Total.sum()"
   ]
  },
  {
   "cell_type": "code",
   "execution_count": 44,
   "metadata": {},
   "outputs": [
    {
     "data": {
      "text/plain": [
       "1018584373.02"
      ]
     },
     "execution_count": 44,
     "metadata": {},
     "output_type": "execute_result"
    }
   ],
   "source": [
    "KSUEXP.Total.sum()"
   ]
  },
  {
   "cell_type": "code",
   "execution_count": 45,
   "metadata": {},
   "outputs": [
    {
     "data": {
      "text/plain": [
       "-164259729.17999995"
      ]
     },
     "execution_count": 45,
     "metadata": {},
     "output_type": "execute_result"
    }
   ],
   "source": [
    "854324643.84-1018584373.02"
   ]
  },
  {
   "cell_type": "code",
   "execution_count": 46,
   "metadata": {},
   "outputs": [
    {
     "data": {
      "text/plain": [
       "808767902.55"
      ]
     },
     "execution_count": 46,
     "metadata": {},
     "output_type": "execute_result"
    }
   ],
   "source": [
    "KUREV.Total.sum()"
   ]
  },
  {
   "cell_type": "code",
   "execution_count": 47,
   "metadata": {},
   "outputs": [
    {
     "data": {
      "text/plain": [
       "990238875.6099999"
      ]
     },
     "execution_count": 47,
     "metadata": {},
     "output_type": "execute_result"
    }
   ],
   "source": [
    "KUEXP.Total.sum()"
   ]
  },
  {
   "cell_type": "code",
   "execution_count": 48,
   "metadata": {},
   "outputs": [
    {
     "data": {
      "text/plain": [
       "-181470973.05999994"
      ]
     },
     "execution_count": 48,
     "metadata": {},
     "output_type": "execute_result"
    }
   ],
   "source": [
    "808767902.55-990238875.6099999"
   ]
  },
  {
   "cell_type": "markdown",
   "metadata": {},
   "source": [
    "<b>Answer:</b> Neither university made a profit in 2018."
   ]
  },
  {
   "cell_type": "markdown",
   "metadata": {},
   "source": [
    "### B2: Which software program do you like the most in this course? Why?"
   ]
  },
  {
   "cell_type": "markdown",
   "metadata": {},
   "source": [
    "<b>Answer:</b> I think I prefered Tableau over any of the other softwares we used. I liked it because it was one of the more simple softwares we used and seemed less confusing to me. Also, you can make some really neat graphics with Tableau and I feel like I mastered this one the best and have the most abilities in this software. "
   ]
  },
  {
   "cell_type": "markdown",
   "metadata": {},
   "source": [
    "### END OF THE TEST"
   ]
  }
 ],
 "metadata": {
  "kernelspec": {
   "display_name": "Python 2",
   "language": "python",
   "name": "python2"
  },
  "language_info": {
   "codemirror_mode": {
    "name": "ipython",
    "version": 2
   },
   "file_extension": ".py",
   "mimetype": "text/x-python",
   "name": "python",
   "nbconvert_exporter": "python",
   "pygments_lexer": "ipython2",
   "version": "2.7.10"
  }
 },
 "nbformat": 4,
 "nbformat_minor": 2
}
